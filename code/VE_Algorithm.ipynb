{
 "cells": [
  {
   "cell_type": "code",
   "execution_count": 3,
   "metadata": {},
   "outputs": [],
   "source": [
    "from pgmpy.models import BayesianModel\n",
    "from pgmpy.readwrite import BIFReader\n",
    "# reader = BIFReader('../data/dataset/hepar2.bif')   #Large BN\n",
    "reader = BIFReader('../data/dataset/network.bif')\n",
    "network = reader.get_model()"
   ]
  },
  {
   "cell_type": "code",
   "execution_count": 5,
   "metadata": {},
   "outputs": [
    {
     "name": "stdout",
     "output_type": "stream",
     "text": [
      "[('amenities', 'location'), ('neighborhood', 'location'), ('neighborhood', 'children'), ('location', 'age'), ('location', 'price'), ('children', 'schools'), ('size', 'price'), ('schools', 'price'), ('age', 'price')]\n"
     ]
    }
   ],
   "source": [
    "from pgmpy.inference import VariableElimination\n",
    "network_infer = VariableElimination(network)\n",
    "edge_net=network.edges()\n",
    "# f=open('gibbs_data_test1.txt','w')\n",
    "# f=open('net.txt','a')\n",
    "print(edge_net)\n",
    "# print(edge_net,file=f)\n",
    "# for u,v in edge_net:\n",
    "#     print('u:%s,v:%s'%(u,v))\n",
    "#     print(u,v)\n",
    "# q=network_infer.query(variables=['hepatotoxic'],evidence={'THepatitis':1})\n",
    "# print(q['hepatotoxic'])\n",
    "# print('%s %s %0.2f'%('hepatotoxic','THepatitis',q['hepatotoxic'].values[0]))\n",
    "#     print('%s %s %0.2f'%(u,v,q[v].values[0]),file=f)\n",
    "# f.close()\n",
    "# q=network_infer.query(variables=['price'],evidence={'age':0})\n",
    "# print(q['price'])\n",
    "# print(q['price'].values)"
   ]
  },
  {
   "cell_type": "code",
   "execution_count": 7,
   "metadata": {},
   "outputs": [
    {
     "name": "stdout",
     "output_type": "stream",
     "text": [
      "P(location|amenities=0)=[0.6  0.25 0.15]\n",
      "P(location|neighborhood=0)=[0.23 0.4  0.37]\n",
      "P(children|neighborhood=0)=[0.6 0.4]\n",
      "P(age|location=0)=[0.3 0.7]\n",
      "P(price|location=0)=[0.3644437  0.39253313 0.24302317]\n",
      "P(schools|children=0)=[0.7 0.3]\n",
      "P(price|size=0)=[0.56120552 0.32997993 0.10881455]\n",
      "P(price|schools=0)=[0.55266364 0.35708259 0.09025377]\n",
      "P(price|age=0)=[0.60608453 0.31721122 0.07670425]\n"
     ]
    }
   ],
   "source": [
    "for u,v in edge_net:\n",
    "#     print('u:%s,v:%s'%(u,v))\n",
    "#     print(u,v)\n",
    "    q=network_infer.query(variables=[v],evidence={u:0})\n",
    "    print(\"P({q}|{e}={state})={v}\".format(q=v,e=u,state=0,v=q[v].values))"
   ]
  }
 ],
 "metadata": {
  "kernelspec": {
   "display_name": "Python 3",
   "language": "python",
   "name": "python3"
  },
  "language_info": {
   "codemirror_mode": {
    "name": "ipython",
    "version": 3
   },
   "file_extension": ".py",
   "mimetype": "text/x-python",
   "name": "python",
   "nbconvert_exporter": "python",
   "pygments_lexer": "ipython3",
   "version": "3.7.4"
  }
 },
 "nbformat": 4,
 "nbformat_minor": 2
}
